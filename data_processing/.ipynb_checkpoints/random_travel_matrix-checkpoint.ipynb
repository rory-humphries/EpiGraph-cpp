{
 "cells": [
  {
   "cell_type": "code",
   "execution_count": 1,
   "metadata": {},
   "outputs": [],
   "source": [
    "import pandas as pd\n",
    "import numpy as np\n",
    "import matplotlib.pyplot as plt\n",
    "from scipy.spatial.distance import cdist\n",
    "import tqdm\n",
    "from matplotlib.colors import LogNorm\n",
    "from mpl_toolkits.mplot3d import Axes3D\n",
    "from scipy import stats"
   ]
  },
  {
   "cell_type": "markdown",
   "metadata": {},
   "source": [
    "# Compute the random travel matrix from CSO electoral division commuting data"
   ]
  },
  {
   "cell_type": "code",
   "execution_count": 4,
   "metadata": {},
   "outputs": [],
   "source": [
    "ed_travel_df = pd.read_csv(\"../data/processed/ed_travel_data.csv\")\n",
    "pop_ratio_mat = np.loadtxt('../data/processed/ed_soa_pop_ratio_mat.csv', delimiter=',')\n",
    "dist_mat = np.loadtxt('../data/processed/ed_soa_dist_mat.csv', delimiter=',')"
   ]
  },
  {
   "cell_type": "code",
   "execution_count": 5,
   "metadata": {},
   "outputs": [],
   "source": [
    "no_commuters = ed_travel_df['No. of Commuters'].to_numpy()\n",
    "pop_ratio = ed_travel_df['pop_ratio'].to_numpy()\n",
    "dist = ed_travel_df['Distance'].to_numpy()\n",
    "\n",
    "dist = np.repeat(dist, no_commuters)\n",
    "log_dist = np.log10(dist)\n",
    "pop_ratio = np.repeat(pop_ratio, no_commuters)\n",
    "log_pop_ratio = np.log10(pop_ratio)"
   ]
  },
  {
   "cell_type": "code",
   "execution_count": 6,
   "metadata": {},
   "outputs": [],
   "source": [
    "values = np.vstack([log_dist, log_pop_ratio])\n",
    "kernel = stats.gaussian_kde(values)"
   ]
  },
  {
   "cell_type": "code",
   "execution_count": 8,
   "metadata": {},
   "outputs": [],
   "source": [
    "x, y = np.linspace(0, 3, 40),  np.linspace(-3, 3, 40)\n",
    "X, Y = np.meshgrid(x, y, indexing='ij')\n",
    "\n",
    "positions = np.vstack([X.ravel(), Y.ravel()])\n",
    "Z = kernel(positions)"
   ]
  },
  {
   "cell_type": "code",
   "execution_count": 13,
   "metadata": {},
   "outputs": [],
   "source": [
    "bin_area = abs((x[1]-x[0])*(y[1]-y[0]))\n",
    "Z = Z*bin_area\n",
    "Zr = Z.reshape(X.shape)"
   ]
  },
  {
   "cell_type": "code",
   "execution_count": 32,
   "metadata": {},
   "outputs": [
    {
     "name": "stderr",
     "output_type": "stream",
     "text": [
      "<ipython-input-32-87d16032823c>:4: RuntimeWarning: divide by zero encountered in log10\n",
      "  bx = np.digitize(np.log10(dist_mat[i]), x)\n"
     ]
    }
   ],
   "source": [
    "prob_mat = np.zeros_like(dist_mat)\n",
    "\n",
    "for i in range(dist_mat.shape[0]):\n",
    "    bx = np.digitize(np.log10(dist_mat[i]), x)\n",
    "    by = np.digitize(np.log10(pop_ratio_mat[i]), y)\n",
    "    prob_mat[i,:] = Zr[bx,by]*(1/np.sum(Zr[bx,by]))"
   ]
  },
  {
   "cell_type": "code",
   "execution_count": 33,
   "metadata": {},
   "outputs": [],
   "source": [
    "np.savetxt('../data/processed/ed_soa_travel_prob_mat.csv', prob_mat, delimiter=',', fmt = '%.10f')"
   ]
  },
  {
   "cell_type": "code",
   "execution_count": null,
   "metadata": {},
   "outputs": [],
   "source": []
  }
 ],
 "metadata": {
  "kernelspec": {
   "display_name": "Python 3",
   "language": "python",
   "name": "python3"
  },
  "language_info": {
   "codemirror_mode": {
    "name": "ipython",
    "version": 3
   },
   "file_extension": ".py",
   "mimetype": "text/x-python",
   "name": "python",
   "nbconvert_exporter": "python",
   "pygments_lexer": "ipython3",
   "version": "3.8.2"
  }
 },
 "nbformat": 4,
 "nbformat_minor": 4
}
