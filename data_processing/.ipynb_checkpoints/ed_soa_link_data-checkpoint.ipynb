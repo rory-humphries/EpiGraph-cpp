{
 "cells": [
  {
   "cell_type": "code",
   "execution_count": 73,
   "metadata": {},
   "outputs": [],
   "source": [
    "import pandas as pd\n",
    "import geopandas as gpd\n",
    "import numpy as np\n",
    "import shapely"
   ]
  },
  {
   "cell_type": "markdown",
   "metadata": {},
   "source": [
    "The population ratio is taken to be $\\frac{\\text{destinaiton population}}{\\text{source population}}$."
   ]
  },
  {
   "cell_type": "code",
   "execution_count": 65,
   "metadata": {},
   "outputs": [],
   "source": [
    "vert_df = pd.read_csv(\"../data/processed/ed_soa_data_frame.csv\")\n",
    "vert_df = gpd.GeoDataFrame(vert_df)\n",
    "\n",
    "vert_df['geometry'] = vert_df['geometry'].apply(shapely.wkt.loads)\n",
    "vert_df['centroid'] = vert_df['centroid'].apply(shapely.wkt.loads)"
   ]
  },
  {
   "cell_type": "code",
   "execution_count": 66,
   "metadata": {},
   "outputs": [],
   "source": [
    "def distance_haversine(lat1, lon1, lat2, lon2):\n",
    "    # approximate radius of earth in km\n",
    "    R = 6373.0 * 1000\n",
    "\n",
    "    lat1 = np.radians(lat1)\n",
    "    lon1 = np.radians(lon1)\n",
    "    lat2 = np.radians(lat2)\n",
    "    lon2 = np.radians(lon2)\n",
    "\n",
    "    dlon = lon2 - lon1\n",
    "    dlat = lat2 - lat1\n",
    "\n",
    "    a = np.sin(dlat / 2) ** 2 + np.cos(lat1) * np.cos(lat2) * np.sin(dlon / 2) ** 2\n",
    "    c = 2 * np.arctan2(np.sqrt(a), np.sqrt(1 - a))\n",
    "\n",
    "    distance = R * c\n",
    "\n",
    "    return distance"
   ]
  },
  {
   "cell_type": "code",
   "execution_count": 67,
   "metadata": {},
   "outputs": [],
   "source": [
    "pop_arr = vert_df.population.to_numpy()\n",
    "dist_mat = np.zeros((len(pop_arr), len(pop_arr)))\n",
    "pop_ratio_mat = np.zeros((len(pop_arr), len(pop_arr)))\n",
    "\n",
    "\n",
    "lat_arr = np.array([p.y for  p in vert_df['centroid']])\n",
    "lon_arr = np.array([p.x for  p in vert_df['centroid']])\n",
    "\n",
    "for src in range(len(pop_arr)): \n",
    "    dist_mat[src,:] = distance_haversine(lat_arr[src], lon_arr[src], lat_arr, lon_arr)/1000.0\n",
    "    pop_ratio_mat[src,:] = pop_arr/pop_arr[src]"
   ]
  },
  {
   "cell_type": "code",
   "execution_count": 68,
   "metadata": {},
   "outputs": [],
   "source": [
    "np.savetxt('../data/processed/ed_soa_pop_ratio_mat.csv', pop_ratio_mat, delimiter=',', fmt = '%f')\n",
    "np.savetxt('../data/processed/ed_soa_dist_mat.csv', dist_mat, delimiter=',', fmt = '%f')"
   ]
  },
  {
   "cell_type": "code",
   "execution_count": 82,
   "metadata": {},
   "outputs": [],
   "source": [
    "ed_travel_df = pd.read_csv(\"../data/raw/ED_Used_Link_Info.csv\")"
   ]
  },
  {
   "cell_type": "code",
   "execution_count": 83,
   "metadata": {},
   "outputs": [],
   "source": [
    "ed_df = pd.read_csv(\"../data/raw/ED_Basic_Info.csv\")\n",
    "ed_df.index = ed_df['Electoral Division']"
   ]
  },
  {
   "cell_type": "code",
   "execution_count": 84,
   "metadata": {},
   "outputs": [],
   "source": [
    "ed_travel_df = ed_travel_df[ed_travel_df['To Electoral Division']!='No fixed place of work']\n",
    "ed_travel_df = ed_travel_df[ed_travel_df['To Electoral Division']!='Work/school from home']\n",
    "ed_travel_df = ed_travel_df[ed_travel_df['Distance']>1]\n",
    "\n",
    "ed_travel_df.index = ed_travel_df['Electoral Division']\n",
    "ed_travel_df['src_pop'] = ed_df.loc[edge_df['Electoral Division']].Population\n",
    "ed_travel_df.index = ed_travel_df['To Electoral Division']\n",
    "ed_travel_df['dst_pop'] = ed_df.loc[edge_df['To Electoral Division']].Population\n",
    "ed_travel_df.reset_index(drop=True, inplace = True)\n",
    "\n",
    "ed_travel_df['pop_ratio'] = ed_travel_df['dst_pop']/ed_travel_df['src_pop']\n",
    "ed_travel_df['commuter_prop'] = ed_travel_df['No. of Commuters']/ed_travel_df['src_pop']"
   ]
  },
  {
   "cell_type": "code",
   "execution_count": 86,
   "metadata": {},
   "outputs": [],
   "source": [
    "ed_travel_df.to_csv('../data/processed/ed_travel_data.csv', index=False)"
   ]
  },
  {
   "cell_type": "code",
   "execution_count": null,
   "metadata": {},
   "outputs": [],
   "source": []
  }
 ],
 "metadata": {
  "kernelspec": {
   "display_name": "Python 3",
   "language": "python",
   "name": "python3"
  },
  "language_info": {
   "codemirror_mode": {
    "name": "ipython",
    "version": 3
   },
   "file_extension": ".py",
   "mimetype": "text/x-python",
   "name": "python",
   "nbconvert_exporter": "python",
   "pygments_lexer": "ipython3",
   "version": "3.8.2"
  },
  "toc-autonumbering": false,
  "toc-showcode": false,
  "toc-showmarkdowntxt": false
 },
 "nbformat": 4,
 "nbformat_minor": 4
}
