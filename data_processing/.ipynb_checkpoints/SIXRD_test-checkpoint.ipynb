{
 "cells": [
  {
   "cell_type": "code",
   "execution_count": 32,
   "metadata": {},
   "outputs": [],
   "source": [
    "import pandas as pd\n",
    "import numpy as np\n",
    "import matplotlib.pyplot as plt\n",
    "import geopandas as gpd\n",
    "from scipy.spatial.distance import cdist\n",
    "import tqdm\n",
    "from matplotlib.colors import LogNorm\n",
    "from mpl_toolkits.mplot3d import Axes3D\n",
    "from scipy import stats\n",
    "import shapely\n",
    "from numpy.random import default_rng"
   ]
  },
  {
   "cell_type": "code",
   "execution_count": null,
   "metadata": {},
   "outputs": [],
   "source": [
    "vert_df = pd.read_csv(\"../data/processed/ed_soa_data_frame.csv\")\n",
    "vert_df = gpd.GeoDataFrame(vert_df)\n",
    "\n",
    "vert_df['geometry'] = vert_df['geometry'].apply(shapely.wkt.loads)\n",
    "vert_df['centroid'] = vert_df['centroid'].apply(shapely.wkt.loads)\n",
    "\n",
    "ed_travel_df = pd.read_csv(\"../data/processed/ed_travel_data.csv\")\n",
    "pop_ratio_mat = np.loadtxt('../data/processed/ed_soa_pop_ratio_mat.csv', delimiter=',')\n",
    "dist_mat = np.loadtxt('../data/processed/ed_soa_dist_mat.csv', delimiter=',')\n",
    "prob_mat = np.loadtxt('../data/processed/ed_soa_travel_prob_mat.csv', delimiter=',')"
   ]
  },
  {
   "cell_type": "code",
   "execution_count": 9,
   "metadata": {
    "jupyter": {
     "source_hidden": true
    },
    "tags": []
   },
   "outputs": [],
   "source": [
    "no_commuters = ed_travel_df['No. of Commuters'].to_numpy()\n",
    "pop_ratio = ed_travel_df['pop_ratio'].to_numpy()\n",
    "dist = ed_travel_df['Distance'].to_numpy()\n",
    "\n",
    "dist = np.repeat(dist, no_commuters)\n",
    "log_dist = np.log10(dist)\n",
    "pop_ratio = np.repeat(pop_ratio, no_commuters)\n",
    "log_pop_ratio = np.log10(pop_ratio)"
   ]
  },
  {
   "cell_type": "code",
   "execution_count": 19,
   "metadata": {},
   "outputs": [],
   "source": [
    "state_mat = np.zeros((vert_df.population.size, 5))"
   ]
  },
  {
   "cell_type": "code",
   "execution_count": 20,
   "metadata": {},
   "outputs": [],
   "source": [
    "state_mat[1000, 0] -= 2\n",
    "state_mat[1000, 2] += 2"
   ]
  },
  {
   "cell_type": "code",
   "execution_count": 24,
   "metadata": {},
   "outputs": [],
   "source": [
    "travel_mat = np.zeros_like(prob_mat)"
   ]
  },
  {
   "cell_type": "code",
   "execution_count": 25,
   "metadata": {},
   "outputs": [],
   "source": [
    "rng = default_rng()"
   ]
  },
  {
   "cell_type": "code",
   "execution_count": 29,
   "metadata": {},
   "outputs": [
    {
     "data": {
      "text/plain": [
       "1.0001859999999998"
      ]
     },
     "execution_count": 29,
     "metadata": {},
     "output_type": "execute_result"
    }
   ],
   "source": [
    "prob_mat[0, :].sum()"
   ]
  },
  {
   "cell_type": "code",
   "execution_count": 16,
   "metadata": {},
   "outputs": [
    {
     "data": {
      "text/plain": [
       "array([[1113.,    0.,    0.,    0.,    0.],\n",
       "       [1829.,    0.,    0.,    0.,    0.],\n",
       "       [1502.,    0.,    0.,    0.,    0.],\n",
       "       ...,\n",
       "       [  94.,    0.,    0.,    0.,    0.],\n",
       "       [ 331.,    0.,    0.,    0.,    0.],\n",
       "       [ 586.,    0.,    0.,    0.,    0.]])"
      ]
     },
     "execution_count": 16,
     "metadata": {},
     "output_type": "execute_result"
    }
   ],
   "source": [
    "for row in range(prob_mat.shape[0]):\n",
    "    idx = rng.choice(range(prob_mat.shape[1]), 100, p = prob_mat[row,:])\n",
    "    travel_mat[row][idx] += 1"
   ]
  },
  {
   "cell_type": "code",
   "execution_count": 31,
   "metadata": {},
   "outputs": [
    {
     "ename": "ValueError",
     "evalue": "probabilities do not sum to 1",
     "output_type": "error",
     "traceback": [
      "\u001b[0;31m---------------------------------------------------------------------------\u001b[0m",
      "\u001b[0;31mValueError\u001b[0m                                Traceback (most recent call last)",
      "\u001b[0;32m<ipython-input-31-078f57ba8b49>\u001b[0m in \u001b[0;36m<module>\u001b[0;34m\u001b[0m\n\u001b[0;32m----> 1\u001b[0;31m \u001b[0midx\u001b[0m \u001b[0;34m=\u001b[0m \u001b[0mrng\u001b[0m\u001b[0;34m.\u001b[0m\u001b[0mchoice\u001b[0m\u001b[0;34m(\u001b[0m\u001b[0mrange\u001b[0m\u001b[0;34m(\u001b[0m\u001b[0mprob_mat\u001b[0m\u001b[0;34m.\u001b[0m\u001b[0mshape\u001b[0m\u001b[0;34m[\u001b[0m\u001b[0;36m1\u001b[0m\u001b[0;34m]\u001b[0m\u001b[0;34m)\u001b[0m\u001b[0;34m,\u001b[0m \u001b[0;36m100\u001b[0m\u001b[0;34m,\u001b[0m \u001b[0mreplace\u001b[0m \u001b[0;34m=\u001b[0m \u001b[0;32mTrue\u001b[0m\u001b[0;34m,\u001b[0m \u001b[0mp\u001b[0m \u001b[0;34m=\u001b[0m \u001b[0mprob_mat\u001b[0m\u001b[0;34m[\u001b[0m\u001b[0;36m0\u001b[0m\u001b[0;34m,\u001b[0m\u001b[0;34m:\u001b[0m\u001b[0;34m]\u001b[0m\u001b[0;34m)\u001b[0m\u001b[0;34m\u001b[0m\u001b[0;34m\u001b[0m\u001b[0m\n\u001b[0m",
      "\u001b[0;32m_generator.pyx\u001b[0m in \u001b[0;36mnumpy.random._generator.Generator.choice\u001b[0;34m()\u001b[0m\n",
      "\u001b[0;31mValueError\u001b[0m: probabilities do not sum to 1"
     ]
    }
   ],
   "source": [
    "idx = rng.choice(range(prob_mat.shape[1]), 100, replace = True, p = prob_mat[0,:])"
   ]
  },
  {
   "cell_type": "code",
   "execution_count": null,
   "metadata": {},
   "outputs": [],
   "source": []
  }
 ],
 "metadata": {
  "kernelspec": {
   "display_name": "Python 3",
   "language": "python",
   "name": "python3"
  },
  "language_info": {
   "codemirror_mode": {
    "name": "ipython",
    "version": 3
   },
   "file_extension": ".py",
   "mimetype": "text/x-python",
   "name": "python",
   "nbconvert_exporter": "python",
   "pygments_lexer": "ipython3",
   "version": "3.8.2"
  }
 },
 "nbformat": 4,
 "nbformat_minor": 4
}
