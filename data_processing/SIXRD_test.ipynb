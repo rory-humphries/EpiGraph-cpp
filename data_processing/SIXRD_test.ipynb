{
 "cells": [
  {
   "cell_type": "code",
   "execution_count": 1,
   "metadata": {},
   "outputs": [],
   "source": [
    "import pandas as pd\n",
    "import numpy as np\n",
    "import matplotlib.pyplot as plt\n",
    "import geopandas as gpd\n",
    "from scipy.spatial.distance import cdist\n",
    "import tqdm\n",
    "from matplotlib.colors import LogNorm\n",
    "from mpl_toolkits.mplot3d import Axes3D\n",
    "from scipy import stats\n",
    "import shapely\n",
    "from numpy.random import default_rng"
   ]
  },
  {
   "cell_type": "code",
   "execution_count": 2,
   "metadata": {},
   "outputs": [],
   "source": [
    "vert_df = pd.read_csv(\"../data/processed/ed_soa_data_frame.csv\")\n",
    "vert_df = gpd.GeoDataFrame(vert_df)\n",
    "\n",
    "vert_df['geometry'] = vert_df['geometry'].apply(shapely.wkt.loads)\n",
    "vert_df['centroid'] = vert_df['centroid'].apply(shapely.wkt.loads)\n",
    "\n",
    "ed_travel_df = pd.read_csv(\"../data/processed/ed_travel_data.csv\")\n",
    "pop_ratio_mat = np.loadtxt('../data/processed/ed_soa_pop_ratio_mat.csv', delimiter=',')\n",
    "dist_mat = np.loadtxt('../data/processed/ed_soa_dist_mat.csv', delimiter=',')\n",
    "prob_mat = np.loadtxt('../data/processed/ed_soa_travel_prob_mat.csv', delimiter=',')"
   ]
  },
  {
   "cell_type": "code",
   "execution_count": 3,
   "metadata": {
    "tags": []
   },
   "outputs": [],
   "source": [
    "pop = vert_df.population\n",
    "commuting_pop = pop*0.6\n",
    "#no_commuters = ed_travel_df['No. of Commuters'].to_numpy()\n",
    "#pop_ratio = ed_travel_df['pop_ratio'].to_numpy()\n",
    "#dist = ed_travel_df['Distance'].to_numpy()\n",
    "\n",
    "#dist = np.repeat(dist, no_commuters)\n",
    "#log_dist = np.log10(dist)\n",
    "#pop_ratio = np.repeat(pop_ratio, no_commuters)\n",
    "#log_pop_ratio = np.log10(pop_ratio)"
   ]
  },
  {
   "cell_type": "code",
   "execution_count": 4,
   "metadata": {},
   "outputs": [],
   "source": [
    "state_mat = np.zeros((vert_df.population.size, 5))"
   ]
  },
  {
   "cell_type": "code",
   "execution_count": 5,
   "metadata": {},
   "outputs": [],
   "source": [
    "state_mat[1000, 0] -= 2\n",
    "state_mat[1000, 2] += 2"
   ]
  },
  {
   "cell_type": "code",
   "execution_count": 6,
   "metadata": {},
   "outputs": [],
   "source": [
    "rng = default_rng()"
   ]
  },
  {
   "cell_type": "code",
   "execution_count": 7,
   "metadata": {},
   "outputs": [],
   "source": [
    "travel_mat = np.zeros_like(prob_mat)\n",
    "for row in range(prob_mat.shape[0]):\n",
    "    idx = rng.choice(range(prob_mat.shape[1]), int(pop[row]*0.6), replace = True, p = prob_mat[row,:])\n",
    "    travel_mat[row] += np.bincount(idx, minlength = prob_mat.shape[1])"
   ]
  },
  {
   "cell_type": "code",
   "execution_count": 75,
   "metadata": {},
   "outputs": [],
   "source": [
    "def choice_bincount(rng, size=None, replace=True, p=None, axis=0, shuffle=True):\n",
    "    idx = rng.choice(range(p.size), size, replace, p, axis, shuffle)\n",
    "    return np.bincount(idx, minlength = p.size)"
   ]
  },
  {
   "cell_type": "code",
   "execution_count": 164,
   "metadata": {},
   "outputs": [
    {
     "name": "stdout",
     "output_type": "stream",
     "text": [
      "CPU times: user 1.81 s, sys: 0 ns, total: 1.81 s\n",
      "Wall time: 1.81 s\n"
     ]
    }
   ],
   "source": [
    "%%time\n",
    "travel_mat = np.zeros_like(prob_mat)\n",
    "for row in range(prob_mat.shape[0]):\n",
    "    travel_mat[row] = choice_bincount(rng, int(pop[row]*0.6), p = prob_mat[row])"
   ]
  },
  {
   "cell_type": "code",
   "execution_count": 93,
   "metadata": {},
   "outputs": [],
   "source": [
    "from numpy.random import SeedSequence, default_rng\n",
    "\n",
    "ss = SeedSequence(12345)\n",
    "child_seeds = ss.spawn(prob_mat.shape[0])\n",
    "streams = [default_rng(s) for s in child_seeds]"
   ]
  },
  {
   "cell_type": "code",
   "execution_count": 82,
   "metadata": {},
   "outputs": [
    {
     "data": {
      "text/plain": [
       "array([[0., 0., 0., ..., 0., 0., 0.],\n",
       "       [0., 0., 0., ..., 0., 0., 0.],\n",
       "       [0., 0., 0., ..., 0., 0., 0.],\n",
       "       ...,\n",
       "       [0., 0., 0., ..., 0., 0., 0.],\n",
       "       [0., 0., 0., ..., 0., 0., 0.],\n",
       "       [0., 0., 0., ..., 0., 0., 0.]])"
      ]
     },
     "execution_count": 82,
     "metadata": {},
     "output_type": "execute_result"
    }
   ],
   "source": [
    "travel_mat"
   ]
  },
  {
   "cell_type": "code",
   "execution_count": 42,
   "metadata": {},
   "outputs": [],
   "source": [
    "from multiprocessing import Pool"
   ]
  },
  {
   "cell_type": "code",
   "execution_count": 189,
   "metadata": {},
   "outputs": [],
   "source": [
    "travel_mat = np.zeros_like(prob_mat)"
   ]
  },
  {
   "cell_type": "code",
   "execution_count": 202,
   "metadata": {},
   "outputs": [
    {
     "name": "stdout",
     "output_type": "stream",
     "text": [
      "CPU times: user 577 ms, sys: 423 ms, total: 1 s\n",
      "Wall time: 873 ms\n"
     ]
    }
   ],
   "source": [
    "%%time\n",
    "\n",
    "pool = Pool(processes=16)\n",
    "\n",
    "res = []\n",
    "\n",
    "def update_tavel_mat(x):\n",
    "    res.append(x)\n",
    "    \n",
    "def choice_bincount_order(x, y):\n",
    "    return x, choice_bincount(*y)\n",
    "\n",
    "[pool.apply_async(choice_bincount_order, \n",
    "                args = (row, (default_rng(streams[row]), int(pop[row]*0.6), True, prob_mat[row])),\n",
    "                callback = update_tavel_mat) for row in range(prob_mat.shape[0])]\n",
    "    \n",
    "pool.close()\n",
    "pool.join()  \n",
    "\n",
    "#for i in res:\n",
    "#    travel_mat[i[0]] = i[1]"
   ]
  },
  {
   "cell_type": "code",
   "execution_count": 203,
   "metadata": {},
   "outputs": [
    {
     "data": {
      "text/plain": [
       "3941934.0"
      ]
     },
     "execution_count": 203,
     "metadata": {},
     "output_type": "execute_result"
    }
   ],
   "source": [
    "travel_mat.sum()"
   ]
  },
  {
   "cell_type": "code",
   "execution_count": 10,
   "metadata": {},
   "outputs": [
    {
     "ename": "IndentationError",
     "evalue": "expected an indented block (<ipython-input-10-3c9e46ad445a>, line 4)",
     "output_type": "error",
     "traceback": [
      "\u001b[0;36m  File \u001b[0;32m\"<ipython-input-10-3c9e46ad445a>\"\u001b[0;36m, line \u001b[0;32m4\u001b[0m\n\u001b[0;31m    elif band.shape == (x.shape[0], 2):\u001b[0m\n\u001b[0m    ^\u001b[0m\n\u001b[0;31mIndentationError\u001b[0m\u001b[0;31m:\u001b[0m expected an indented block\n"
     ]
    }
   ],
   "source": [
    "def nd_rand_integers(x, vals, p):\n",
    "    \n",
    "    assert(x.size == p.shape[1])\n",
    "    \n",
    "    rng = default_rng()\n",
    "    travel_mat = np.zeros(prob_mat.shape(), dtype = vals.dtype)\n",
    "    \n",
    "    if len(vals.shape) == 1:\n",
    "    \n",
    "        for row in range(p.shape[0]):\n",
    "            idx = rng.choice(range(p.shape[1]), x, replace = True, p = p[row,:])\n",
    "            travel_mat[row] += np.bincount(idx, minlength = prob_mat.shape[1])\n"
   ]
  },
  {
   "cell_type": "code",
   "execution_count": 12,
   "metadata": {},
   "outputs": [
    {
     "ename": "IndexError",
     "evalue": "tuple index out of range",
     "output_type": "error",
     "traceback": [
      "\u001b[0;31m---------------------------------------------------------------------------\u001b[0m",
      "\u001b[0;31mIndexError\u001b[0m                                Traceback (most recent call last)",
      "\u001b[0;32m<ipython-input-12-6e2dc41aa6c9>\u001b[0m in \u001b[0;36m<module>\u001b[0;34m\u001b[0m\n\u001b[0;32m----> 1\u001b[0;31m \u001b[0mnp\u001b[0m\u001b[0;34m.\u001b[0m\u001b[0marray\u001b[0m\u001b[0;34m(\u001b[0m\u001b[0;34m[\u001b[0m\u001b[0;36m0\u001b[0m\u001b[0;34m,\u001b[0m\u001b[0;36m0\u001b[0m\u001b[0;34m]\u001b[0m\u001b[0;34m)\u001b[0m\u001b[0;34m.\u001b[0m\u001b[0mshape\u001b[0m\u001b[0;34m[\u001b[0m\u001b[0;36m1\u001b[0m\u001b[0;34m]\u001b[0m\u001b[0;34m\u001b[0m\u001b[0;34m\u001b[0m\u001b[0m\n\u001b[0m",
      "\u001b[0;31mIndexError\u001b[0m: tuple index out of range"
     ]
    }
   ],
   "source": [
    "np.array([0,0]).shape[1]"
   ]
  },
  {
   "cell_type": "code",
   "execution_count": null,
   "metadata": {},
   "outputs": [],
   "source": []
  }
 ],
 "metadata": {
  "kernelspec": {
   "display_name": "Python 3",
   "language": "python",
   "name": "python3"
  },
  "language_info": {
   "codemirror_mode": {
    "name": "ipython",
    "version": 3
   },
   "file_extension": ".py",
   "mimetype": "text/x-python",
   "name": "python",
   "nbconvert_exporter": "python",
   "pygments_lexer": "ipython3",
   "version": "3.8.2"
  }
 },
 "nbformat": 4,
 "nbformat_minor": 4
}
